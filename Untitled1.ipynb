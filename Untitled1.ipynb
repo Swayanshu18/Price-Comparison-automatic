{
 "cells": [
  {
   "cell_type": "code",
   "execution_count": 1,
   "id": "2f0cdeb8",
   "metadata": {},
   "outputs": [
    {
     "name": "stdout",
     "output_type": "stream",
     "text": [
      "samsung flip\n"
     ]
    }
   ],
   "source": [
    "x=str(input())"
   ]
  },
  {
   "cell_type": "code",
   "execution_count": 2,
   "id": "cceaa52b",
   "metadata": {},
   "outputs": [],
   "source": [
    "from selenium import webdriver\n",
    "from selenium.webdriver.common.keys import Keys\n",
    "from selenium.webdriver.support import expected_conditions as EC\n",
    "from selenium.webdriver.common.by import By\n",
    "from selenium.webdriver.support.wait import WebDriverWait\n",
    "import time\n",
    "import os\n",
    "import numpy as np\n",
    "import pandas as pd\n",
    "\n",
    "import os\n"
   ]
  },
  {
   "cell_type": "code",
   "execution_count": 3,
   "id": "e586c323",
   "metadata": {},
   "outputs": [],
   "source": [
    "from selenium.webdriver.chrome.service import Service\n",
    "from webdriver_manager.chrome import ChromeDriverManager\n",
    "driver=webdriver.Chrome(service=Service(ChromeDriverManager().install()))\n",
    "driver.get('https://www.flipkart.com/?ef_id=2926fc941ddb19b7a16e9856947e92e1:G:s&s_kwcid=AL!739!10!76484942419895!76485137405439&semcmpid=sem_F1167BY7_Brand_adcenter')"
   ]
  },
  {
   "cell_type": "code",
   "execution_count": 4,
   "id": "a6a1a699",
   "metadata": {},
   "outputs": [],
   "source": [
    "search=driver.find_element(By.XPATH,'//*[@id=\"container\"]/div/div[1]/div/div/div/div/div[1]/div/div[1]/div/div[1]/header/div[1]/div[2]/form/div/div/input')"
   ]
  },
  {
   "cell_type": "code",
   "execution_count": 5,
   "id": "bea88454",
   "metadata": {},
   "outputs": [],
   "source": [
    "search.click()\n",
    "search.send_keys(x)\n",
    "time.sleep(2)"
   ]
  },
  {
   "cell_type": "code",
   "execution_count": 6,
   "id": "fed3b371",
   "metadata": {},
   "outputs": [],
   "source": [
    "search.send_keys(Keys.ENTER);"
   ]
  },
  {
   "cell_type": "code",
   "execution_count": 7,
   "id": "1c34ee17",
   "metadata": {},
   "outputs": [],
   "source": [
    "name1=driver.find_element(By.XPATH,'//*[@id=\"container\"]/div/div[3]/div[1]/div[2]/div[2]/div/div/div/a/div[2]/div[1]/div[1]')"
   ]
  },
  {
   "cell_type": "code",
   "execution_count": 8,
   "id": "1e74f60a",
   "metadata": {},
   "outputs": [],
   "source": [
    "Name1=name1.text"
   ]
  },
  {
   "cell_type": "code",
   "execution_count": 9,
   "id": "7d4a5410",
   "metadata": {},
   "outputs": [],
   "source": [
    "price1=driver.find_element(By.XPATH,'//*[@id=\"container\"]/div/div[3]/div[1]/div[2]/div[2]/div/div/div/a/div[2]/div[2]/div[1]/div[1]/div[1]')"
   ]
  },
  {
   "cell_type": "code",
   "execution_count": 10,
   "id": "9bac5dbd",
   "metadata": {},
   "outputs": [],
   "source": [
    "Price1=price1.text"
   ]
  },
  {
   "cell_type": "code",
   "execution_count": 11,
   "id": "1306ef3e",
   "metadata": {},
   "outputs": [
    {
     "name": "stdout",
     "output_type": "stream",
     "text": [
      "₹49,999\n"
     ]
    }
   ],
   "source": [
    "\n",
    "fs=open('details,txt','w')\n",
    "\n",
    "print(Price1)"
   ]
  },
  {
   "cell_type": "code",
   "execution_count": null,
   "id": "c0620c24",
   "metadata": {},
   "outputs": [],
   "source": []
  },
  {
   "cell_type": "code",
   "execution_count": 12,
   "id": "5f534b3f",
   "metadata": {},
   "outputs": [],
   "source": [
    "name2=driver.find_element(By.XPATH,'//*[@id=\"container\"]/div/div[3]/div[1]/div[2]/div[3]/div/div/div/a/div[2]/div[1]/div[1]')"
   ]
  },
  {
   "cell_type": "code",
   "execution_count": 13,
   "id": "77f975ab",
   "metadata": {},
   "outputs": [],
   "source": [
    "Name2=name2.text"
   ]
  },
  {
   "cell_type": "code",
   "execution_count": 14,
   "id": "191c29f6",
   "metadata": {},
   "outputs": [],
   "source": [
    "price2=driver.find_element(By.XPATH,'//*[@id=\"container\"]/div/div[3]/div[1]/div[2]/div[3]/div/div/div/a/div[2]/div[2]/div[1]/div[1]/div[1]')\n",
    "Price2=price2.text\n"
   ]
  },
  {
   "cell_type": "code",
   "execution_count": 15,
   "id": "4e1b94f5",
   "metadata": {},
   "outputs": [
    {
     "data": {
      "text/plain": [
       "True"
      ]
     },
     "execution_count": 15,
     "metadata": {},
     "output_type": "execute_result"
    }
   ],
   "source": [
    "driver.save_screenshot(\"mobile2.png\")"
   ]
  },
  {
   "cell_type": "code",
   "execution_count": 16,
   "id": "d82b06d7",
   "metadata": {},
   "outputs": [],
   "source": [
    "driver.get(\"https://www.amazon.in/?tag=msndeskabkin-21&ref=pd_sl_5szpgfto9j_e&adgrpid=1320515071595367&hvadid=82532451009254&hvnetw=o&hvqmt=e&hvbmt=be&hvdev=c&hvlocint=&hvlocphy=71109&hvtargid=kwd-82533067351416:loc-90&hydadcr=14452_2154372\")"
   ]
  },
  {
   "cell_type": "code",
   "execution_count": 17,
   "id": "abb18376",
   "metadata": {},
   "outputs": [],
   "source": [
    "search2=driver.find_element(By.XPATH,'//*[@id=\"twotabsearchtextbox\"]')"
   ]
  },
  {
   "cell_type": "code",
   "execution_count": 18,
   "id": "3afae206",
   "metadata": {},
   "outputs": [],
   "source": [
    "search2.send_keys(x)"
   ]
  },
  {
   "cell_type": "code",
   "execution_count": 19,
   "id": "d44454eb",
   "metadata": {},
   "outputs": [],
   "source": [
    "search2.send_keys(Keys.ENTER);"
   ]
  },
  {
   "cell_type": "code",
   "execution_count": 20,
   "id": "3127d8ea",
   "metadata": {},
   "outputs": [],
   "source": [
    "name12=driver.find_element(By.XPATH,'//*[@id=\"search\"]/div[1]/div[1]/div/span[1]/div[1]/div[3]/div/div/div/div/div/div/div/div[2]/div/div/div[1]/h2/a/span')"
   ]
  },
  {
   "cell_type": "code",
   "execution_count": 21,
   "id": "37e23aa9",
   "metadata": {},
   "outputs": [],
   "source": [
    "Name12=name12.text"
   ]
  },
  {
   "cell_type": "code",
   "execution_count": 22,
   "id": "316d3a53",
   "metadata": {},
   "outputs": [],
   "source": [
    "price12=driver.find_element(By.XPATH,'//*[@id=\"search\"]/div[1]/div[1]/div/span[1]/div[1]/div[3]/div/div/div/div/div/div/div/div[2]/div/div/div[3]/div[1]/div/div[1]/div[2]/a/span/span[2]/span[2]')"
   ]
  },
  {
   "cell_type": "code",
   "execution_count": 23,
   "id": "4c9dcfca",
   "metadata": {},
   "outputs": [],
   "source": [
    "Price12=price12.text"
   ]
  },
  {
   "cell_type": "code",
   "execution_count": 24,
   "id": "8055ae5e",
   "metadata": {},
   "outputs": [],
   "source": [
    "name22=driver.find_element(By.XPATH,'//*[@id=\"search\"]/div[1]/div[1]/div/span[1]/div[1]/div[4]/div/div/div/div/div/div[2]/div/div/div[1]/h2/a/span')"
   ]
  },
  {
   "cell_type": "code",
   "execution_count": 25,
   "id": "7f51675a",
   "metadata": {},
   "outputs": [],
   "source": [
    "Name22=name22.text"
   ]
  },
  {
   "cell_type": "code",
   "execution_count": 26,
   "id": "a77a61d7",
   "metadata": {},
   "outputs": [],
   "source": [
    "price22=driver.find_element(By.XPATH,'//*[@id=\"search\"]/div[1]/div[1]/div/span[1]/div[1]/div[4]/div/div/div/div/div/div[2]/div/div/div[3]/div[1]/div/div[1]/div[1]/a/span/span[2]/span[2]')"
   ]
  },
  {
   "cell_type": "code",
   "execution_count": 33,
   "id": "5ec13dad",
   "metadata": {},
   "outputs": [],
   "source": [
    "driver.get(\"https://www.tatacliq.com/#!\")"
   ]
  },
  {
   "cell_type": "code",
   "execution_count": 35,
   "id": "ef607211",
   "metadata": {},
   "outputs": [],
   "source": [
    "notnow=driver.find_element(By.ID,'wzrk-cancel')\n",
    "notnow.click()"
   ]
  },
  {
   "cell_type": "code",
   "execution_count": 36,
   "id": "01798682",
   "metadata": {},
   "outputs": [],
   "source": [
    "search4=driver.find_element(By.ID,'search-text-input')\n",
    "search4.click()"
   ]
  },
  {
   "cell_type": "code",
   "execution_count": 37,
   "id": "e7cb4761",
   "metadata": {},
   "outputs": [],
   "source": [
    "search4.send_keys(x)"
   ]
  },
  {
   "cell_type": "code",
   "execution_count": 38,
   "id": "2b607721",
   "metadata": {},
   "outputs": [],
   "source": [
    "search4.send_keys(Keys.ENTER)"
   ]
  },
  {
   "cell_type": "code",
   "execution_count": 39,
   "id": "c7a3f6a9",
   "metadata": {},
   "outputs": [],
   "source": [
    "name32=driver.find_element(By.XPATH,'//*[@id=\"ProductModule-MP000000006944445\"]/a/div')"
   ]
  },
  {
   "cell_type": "code",
   "execution_count": 40,
   "id": "e68955bd",
   "metadata": {},
   "outputs": [
    {
     "data": {
      "text/plain": [
       "''"
      ]
     },
     "execution_count": 40,
     "metadata": {},
     "output_type": "execute_result"
    }
   ],
   "source": [
    "name32.text"
   ]
  },
  {
   "cell_type": "code",
   "execution_count": 44,
   "id": "61ffdb06",
   "metadata": {},
   "outputs": [
    {
     "data": {
      "text/plain": [
       "<selenium.webdriver.remote.webelement.WebElement (session=\"4b4dfc997be18a839aebd054841fbd05\", element=\"3A5CA02E0A2FFC44F604B17B274BB066_element_1104\")>"
      ]
     },
     "execution_count": 44,
     "metadata": {},
     "output_type": "execute_result"
    }
   ],
   "source": [
    "name32"
   ]
  },
  {
   "cell_type": "code",
   "execution_count": 27,
   "id": "f6902b63",
   "metadata": {},
   "outputs": [
    {
     "data": {
      "text/plain": [
       "b'46,990'"
      ]
     },
     "execution_count": 27,
     "metadata": {},
     "output_type": "execute_result"
    }
   ],
   "source": [
    "Price22=price22.text\n",
    "Name1.encode(\"utf-8\")\n",
    "Price1.encode(\"utf-8\")\n",
    "Name2.encode(\"utf-8\")\n",
    "Price2.encode(\"utf-8\")\n",
    "Name12.encode(\"utf-8\")\n",
    "Price12.encode(\"utf-8\")\n",
    "Name22.encode(\"utf-8\")\n",
    "Price22.encode(\"utf-8\")\n",
    "\n"
   ]
  },
  {
   "cell_type": "code",
   "execution_count": 28,
   "id": "98b1e661",
   "metadata": {},
   "outputs": [
    {
     "name": "stdout",
     "output_type": "stream",
     "text": [
      "Flipkart\n",
      "SAMSUNG Galaxy Z Flip3 5G (Cream, 128 GB) - ₹49,999\n",
      "SAMSUNG Galaxy Z Flip3 5G (Phantom Black, 128 GB) - ₹49,999\n",
      "Amazon\n",
      "Tecno Phantom V Fold 5G White (12GB RAM,256GB Storage) | The First Full Size Fold | LTPO AMOLED Display | 4nm D9000+ Fast Processor - 88,888\n",
      "Samsung - 46,990\n"
     ]
    }
   ],
   "source": [
    "print(\"Flipkart\")\n",
    "print(Name1,\"-\",Price1)\n",
    "print(Name2,\"-\",Price2)\n",
    "print(\"Amazon\")\n",
    "print(Name12,\"-\",Price12)\n",
    "print(Name22,\"-\",Price22)\n"
   ]
  },
  {
   "cell_type": "code",
   "execution_count": 29,
   "id": "47650070",
   "metadata": {},
   "outputs": [],
   "source": [
    "import csv\n"
   ]
  },
  {
   "cell_type": "code",
   "execution_count": 30,
   "id": "917b1db4",
   "metadata": {},
   "outputs": [],
   "source": [
    "with open(\"details.csv\",mode=\"w\",encoding=\"utf-8\") as csvfile:\n",
    "    fieldnames=[\"Name\",\"price\"]\n",
    "    write=csv.DictWriter(csvfile,fieldnames=fieldnames)\n",
    "    write.writeheader()\n",
    "    write.writerow({\"Name\":\"FLIPKART\",\"price\":\"WEBSITE\"})\n",
    "    write.writerow({\"Name\":Name1,\"price\":Price1})\n",
    "    write.writerow({\"Name\":Name2,\"price\":Price2})\n",
    "    write.writerow({\"Name\":\"AMAZON\",\"price\":\"WEBSITE\"})\n",
    "   \n",
    "    \n",
    "    write.writerow({\"Name\":Name12,\"price\":Price12})\n",
    "    write.writerow({\"Name\":Name22,\"price\":Price22})"
   ]
  },
  {
   "cell_type": "code",
   "execution_count": 31,
   "id": "ebef6ca6",
   "metadata": {},
   "outputs": [
    {
     "data": {
      "text/plain": [
       "True"
      ]
     },
     "execution_count": 31,
     "metadata": {},
     "output_type": "execute_result"
    }
   ],
   "source": [
    "driver.save_screenshot(\"mobile.png\")\n"
   ]
  },
  {
   "cell_type": "code",
   "execution_count": 32,
   "id": "17611a91",
   "metadata": {},
   "outputs": [
    {
     "name": "stdout",
     "output_type": "stream",
     "text": [
      " * Serving Flask app '__main__'\n",
      " * Debug mode: on\n"
     ]
    },
    {
     "name": "stderr",
     "output_type": "stream",
     "text": [
      "WARNING: This is a development server. Do not use it in a production deployment. Use a production WSGI server instead.\n",
      " * Running on http://127.0.0.1:5000\n",
      "Press CTRL+C to quit\n",
      " * Restarting with stat\n"
     ]
    },
    {
     "ename": "SystemExit",
     "evalue": "1",
     "output_type": "error",
     "traceback": [
      "An exception has occurred, use %tb to see the full traceback.\n",
      "\u001b[1;31mSystemExit\u001b[0m\u001b[1;31m:\u001b[0m 1\n"
     ]
    },
    {
     "name": "stderr",
     "output_type": "stream",
     "text": [
      "C:\\Users\\Swayanshu Rout\\AppData\\Local\\Packages\\PythonSoftwareFoundation.Python.3.11_qbz5n2kfra8p0\\LocalCache\\local-packages\\Python311\\site-packages\\IPython\\core\\interactiveshell.py:3516: UserWarning: To exit: use 'exit', 'quit', or Ctrl-D.\n",
      "  warn(\"To exit: use 'exit', 'quit', or Ctrl-D.\", stacklevel=1)\n"
     ]
    }
   ],
   "source": [
    "\n",
    "from flask import Flask, jsonify, request\n",
    "  \n",
    "app = Flask(__name__)\n",
    "  \n",
    "  \n",
    "@app.route('/hello', methods=['GET'])\n",
    "def helloworld():\n",
    "    if(request.method == 'GET'):\n",
    "        data = {Name1: \"Hello World\"}\n",
    "        return jsonify(data)\n",
    "  \n",
    "  \n",
    "if __name__ == '__main__':\n",
    "    app.run(debug=True)"
   ]
  },
  {
   "cell_type": "code",
   "execution_count": null,
   "id": "0158e635",
   "metadata": {},
   "outputs": [],
   "source": []
  }
 ],
 "metadata": {
  "kernelspec": {
   "display_name": "Python 3 (ipykernel)",
   "language": "python",
   "name": "python3"
  },
  "language_info": {
   "codemirror_mode": {
    "name": "ipython",
    "version": 3
   },
   "file_extension": ".py",
   "mimetype": "text/x-python",
   "name": "python",
   "nbconvert_exporter": "python",
   "pygments_lexer": "ipython3",
   "version": "3.11.4"
  }
 },
 "nbformat": 4,
 "nbformat_minor": 5
}
